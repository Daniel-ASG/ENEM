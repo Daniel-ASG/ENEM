{
  "nbformat": 4,
  "nbformat_minor": 0,
  "metadata": {
    "colab": {
      "name": "Separacao_dados_PB.ipynb",
      "provenance": [],
      "authorship_tag": "ABX9TyMtD/wAIOutADtU19gcG7Q8",
      "include_colab_link": true
    },
    "kernelspec": {
      "name": "python3",
      "display_name": "Python 3"
    },
    "language_info": {
      "name": "python"
    }
  },
  "cells": [
    {
      "cell_type": "markdown",
      "metadata": {
        "id": "view-in-github",
        "colab_type": "text"
      },
      "source": [
        "<a href=\"https://colab.research.google.com/github/Daniel-ASG/ENEM/blob/main/Separacao_dados_PB.ipynb\" target=\"_parent\"><img src=\"https://colab.research.google.com/assets/colab-badge.svg\" alt=\"Open In Colab\"/></a>"
      ]
    },
    {
      "cell_type": "code",
      "metadata": {
        "id": "4EWRaqMAcoUy"
      },
      "source": [
        "import pandas as pd"
      ],
      "execution_count": 8,
      "outputs": []
    },
    {
      "cell_type": "code",
      "metadata": {
        "id": "mPuNmPaQ4h8F"
      },
      "source": [
        "ano = input('Digite o ano da prova com 4 algarismos: ')\n",
        "\n",
        "enem_ano = pd.read_csv(f'/content/MICRODADOS_ENEM_{ano}.csv', encoding='latin-1', sep=';', error_bad_lines=False, engine='python')\n",
        "enem_PB = enem_ano.query('SG_UF_RESIDENCIA == \"PB\"')\n",
        "enem_PB.to_csv(f'enem_{ano}_PB.csv', index=False)\n",
        "enem_PB"
      ],
      "execution_count": null,
      "outputs": []
    },
    {
      "cell_type": "code",
      "metadata": {
        "id": "jY8FrJ9ciOpM"
      },
      "source": [
        ""
      ],
      "execution_count": null,
      "outputs": []
    }
  ]
}